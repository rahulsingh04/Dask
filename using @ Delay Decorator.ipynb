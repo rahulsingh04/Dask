{
 "cells": [
  {
   "cell_type": "markdown",
   "id": "9e8ea7cd",
   "metadata": {},
   "source": [
    "# Serial Execution "
   ]
  },
  {
   "cell_type": "code",
   "execution_count": 12,
   "id": "0fe6324a",
   "metadata": {},
   "outputs": [],
   "source": [
    "def do_something_1(x , y):\n",
    "    return(x + y + 2*x*y)\n",
    "\n",
    "def do_something_2(a, b):\n",
    "    return(a**3 - b**3)\n",
    "\n",
    "def do_something_3(p,q):\n",
    "    return(p*p + q*q)"
   ]
  },
  {
   "cell_type": "code",
   "execution_count": 13,
   "id": "317ba6cc",
   "metadata": {},
   "outputs": [],
   "source": [
    "x = [2,4,6,8,10]\n",
    "y = [3,6,9,12,15]\n",
    "z = [10,20,30,40,50]\n",
    "final_result = []"
   ]
  },
  {
   "cell_type": "code",
   "execution_count": 15,
   "id": "39073316",
   "metadata": {},
   "outputs": [],
   "source": [
    "for i in range(0, len(x)):\n",
    "    res1  = do_something_1(x[i] , y[i])\n",
    "    res2 = do_something_2(x[i] , y[i])\n",
    "    res_3 = do_something_3(res1, res2)\n",
    "    final_result.append(res_3)"
   ]
  },
  {
   "cell_type": "code",
   "execution_count": 16,
   "id": "a7055c20",
   "metadata": {},
   "outputs": [
    {
     "data": {
      "text/plain": [
       "[650, 26468, 278298, 1523600, 5746250]"
      ]
     },
     "execution_count": 16,
     "metadata": {},
     "output_type": "execute_result"
    }
   ],
   "source": [
    "final_result"
   ]
  },
  {
   "cell_type": "code",
   "execution_count": 17,
   "id": "11ad35a1",
   "metadata": {},
   "outputs": [
    {
     "data": {
      "text/plain": [
       "7575266"
      ]
     },
     "execution_count": 17,
     "metadata": {},
     "output_type": "execute_result"
    }
   ],
   "source": [
    "sum(final_result)"
   ]
  },
  {
   "cell_type": "markdown",
   "id": "07a52a01",
   "metadata": {},
   "source": [
    "# Using The Dask Delayed"
   ]
  },
  {
   "cell_type": "code",
   "execution_count": null,
   "id": "ed25c902",
   "metadata": {},
   "outputs": [],
   "source": []
  }
 ],
 "metadata": {
  "kernelspec": {
   "display_name": "Python 3 (ipykernel)",
   "language": "python",
   "name": "python3"
  },
  "language_info": {
   "codemirror_mode": {
    "name": "ipython",
    "version": 3
   },
   "file_extension": ".py",
   "mimetype": "text/x-python",
   "name": "python",
   "nbconvert_exporter": "python",
   "pygments_lexer": "ipython3",
   "version": "3.9.7"
  }
 },
 "nbformat": 4,
 "nbformat_minor": 5
}
