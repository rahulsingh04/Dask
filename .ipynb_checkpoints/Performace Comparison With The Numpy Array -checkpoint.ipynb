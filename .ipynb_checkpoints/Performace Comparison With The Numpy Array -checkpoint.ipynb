{
 "cells": [
  {
   "cell_type": "code",
   "execution_count": 1,
   "id": "61ac027c",
   "metadata": {},
   "outputs": [],
   "source": [
    "import numpy as np \n",
    "import dask.array as da"
   ]
  },
  {
   "cell_type": "code",
   "execution_count": 12,
   "id": "a15f15eb",
   "metadata": {},
   "outputs": [],
   "source": [
    "size_tuple = (18000, 18000)\n",
    "np_arr = np.random.randint(10, size = size_tuple)\n",
    "np_arr2 = np.random.randint(10, size =size_tuple )"
   ]
  },
  {
   "cell_type": "markdown",
   "id": "755ad20b",
   "metadata": {},
   "source": [
    "### Let's Perform a complex random operation over these array "
   ]
  },
  {
   "cell_type": "code",
   "execution_count": 3,
   "id": "1ca62799",
   "metadata": {},
   "outputs": [
    {
     "name": "stdout",
     "output_type": "stream",
     "text": [
      "Wall time: 13.4 s\n"
     ]
    },
    {
     "data": {
      "text/plain": [
       "3932982.931611111"
      ]
     },
     "execution_count": 3,
     "metadata": {},
     "output_type": "execute_result"
    }
   ],
   "source": [
    "%time (((np_arr*2).T)**2 + np_arr2 +100).sum(axis=1).mean()"
   ]
  },
  {
   "cell_type": "markdown",
   "id": "1438ea6e",
   "metadata": {},
   "source": [
    "### Let's Perform the same Operation with the Dask Array "
   ]
  },
  {
   "cell_type": "code",
   "execution_count": 4,
   "id": "7846eca6",
   "metadata": {},
   "outputs": [],
   "source": [
    "chunk_tuple = (500,500)\n",
    "da_arr = da.from_array(np_arr, chunks = chunk_tuple)\n",
    "da_arr2 = da.from_array(np_arr2, chunks = chunk_tuple)"
   ]
  },
  {
   "cell_type": "code",
   "execution_count": 5,
   "id": "94315868",
   "metadata": {},
   "outputs": [
    {
     "name": "stdout",
     "output_type": "stream",
     "text": [
      "Wall time: 3.35 s\n"
     ]
    },
    {
     "data": {
      "text/plain": [
       "3932982.931611111"
      ]
     },
     "execution_count": 5,
     "metadata": {},
     "output_type": "execute_result"
    }
   ],
   "source": [
    "%time (((da_arr*2).T)**2 + da_arr2 +100).sum(axis=1).mean().compute()"
   ]
  },
  {
   "cell_type": "markdown",
   "id": "5a9ba999",
   "metadata": {},
   "source": [
    "### Numpy Won't  be even Run this Huge Array "
   ]
  },
  {
   "cell_type": "code",
   "execution_count": 6,
   "id": "e0b73fd9",
   "metadata": {},
   "outputs": [
    {
     "ename": "MemoryError",
     "evalue": "Unable to allocate 9.31 GiB for an array with shape (50000, 50000) and data type int32",
     "output_type": "error",
     "traceback": [
      "\u001b[1;31m---------------------------------------------------------------------------\u001b[0m",
      "\u001b[1;31mMemoryError\u001b[0m                               Traceback (most recent call last)",
      "\u001b[1;32mC:\\Users\\RAHULS~1\\AppData\\Local\\Temp/ipykernel_13572/3538284372.py\u001b[0m in \u001b[0;36m<module>\u001b[1;34m\u001b[0m\n\u001b[0;32m      1\u001b[0m \u001b[0msize_tuple\u001b[0m \u001b[1;33m=\u001b[0m \u001b[1;33m(\u001b[0m\u001b[1;36m50000\u001b[0m\u001b[1;33m,\u001b[0m \u001b[1;36m50000\u001b[0m\u001b[1;33m)\u001b[0m\u001b[1;33m\u001b[0m\u001b[1;33m\u001b[0m\u001b[0m\n\u001b[1;32m----> 2\u001b[1;33m \u001b[0mnp_arr\u001b[0m \u001b[1;33m=\u001b[0m \u001b[0mnp\u001b[0m\u001b[1;33m.\u001b[0m\u001b[0mrandom\u001b[0m\u001b[1;33m.\u001b[0m\u001b[0mrandint\u001b[0m\u001b[1;33m(\u001b[0m\u001b[1;36m10\u001b[0m\u001b[1;33m,\u001b[0m \u001b[0msize\u001b[0m \u001b[1;33m=\u001b[0m \u001b[0msize_tuple\u001b[0m\u001b[1;33m)\u001b[0m\u001b[1;33m\u001b[0m\u001b[1;33m\u001b[0m\u001b[0m\n\u001b[0m\u001b[0;32m      3\u001b[0m \u001b[0mnp_arr2\u001b[0m \u001b[1;33m=\u001b[0m \u001b[0mnp\u001b[0m\u001b[1;33m.\u001b[0m\u001b[0mrandom\u001b[0m\u001b[1;33m.\u001b[0m\u001b[0mrandint\u001b[0m\u001b[1;33m(\u001b[0m\u001b[1;36m10\u001b[0m\u001b[1;33m,\u001b[0m \u001b[0msize\u001b[0m \u001b[1;33m=\u001b[0m\u001b[0msize_tuple\u001b[0m \u001b[1;33m)\u001b[0m\u001b[1;33m\u001b[0m\u001b[1;33m\u001b[0m\u001b[0m\n",
      "\u001b[1;32mmtrand.pyx\u001b[0m in \u001b[0;36mnumpy.random.mtrand.RandomState.randint\u001b[1;34m()\u001b[0m\n",
      "\u001b[1;32m_bounded_integers.pyx\u001b[0m in \u001b[0;36mnumpy.random._bounded_integers._rand_int32\u001b[1;34m()\u001b[0m\n",
      "\u001b[1;31mMemoryError\u001b[0m: Unable to allocate 9.31 GiB for an array with shape (50000, 50000) and data type int32"
     ]
    }
   ],
   "source": [
    "size_tuple = (50000, 50000)\n",
    "np_arr = np.random.randint(10, size = size_tuple)\n",
    "np_arr2 = np.random.randint(10, size =size_tuple )"
   ]
  },
  {
   "cell_type": "markdown",
   "id": "bc0a22f3",
   "metadata": {},
   "source": [
    "### Dask will be able to load and Compute this data "
   ]
  },
  {
   "cell_type": "code",
   "execution_count": 13,
   "id": "42ddace8",
   "metadata": {},
   "outputs": [],
   "source": [
    "chunk_tuple = (5000,5000 )\n",
    "da_arr = da.random.randint(10, size = size_tuple , chunks = chunk_tuple)\n",
    "da_arr2 = da.random.randint(10, size = size_tuple, chunks = chunk_tuple)"
   ]
  },
  {
   "cell_type": "code",
   "execution_count": 14,
   "id": "d0f94036",
   "metadata": {},
   "outputs": [
    {
     "name": "stdout",
     "output_type": "stream",
     "text": [
      "Wall time: 9.07 s\n"
     ]
    },
    {
     "data": {
      "text/plain": [
       "3932990.2155"
      ]
     },
     "execution_count": 14,
     "metadata": {},
     "output_type": "execute_result"
    }
   ],
   "source": [
    "%time (((da_arr*2).T)**2 + da_arr2 +100).sum(axis=1).mean().compute()"
   ]
  },
  {
   "cell_type": "code",
   "execution_count": null,
   "id": "7e63e715",
   "metadata": {},
   "outputs": [],
   "source": []
  },
  {
   "cell_type": "code",
   "execution_count": null,
   "id": "86bd38b6",
   "metadata": {},
   "outputs": [],
   "source": []
  }
 ],
 "metadata": {
  "kernelspec": {
   "display_name": "Python 3 (ipykernel)",
   "language": "python",
   "name": "python3"
  },
  "language_info": {
   "codemirror_mode": {
    "name": "ipython",
    "version": 3
   },
   "file_extension": ".py",
   "mimetype": "text/x-python",
   "name": "python",
   "nbconvert_exporter": "python",
   "pygments_lexer": "ipython3",
   "version": "3.9.7"
  }
 },
 "nbformat": 4,
 "nbformat_minor": 5
}
