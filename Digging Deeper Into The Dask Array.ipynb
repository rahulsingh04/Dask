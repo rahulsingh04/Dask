{
 "cells": [
  {
   "cell_type": "markdown",
   "id": "d3c65610",
   "metadata": {},
   "source": [
    "## Scaler Operation "
   ]
  },
  {
   "cell_type": "code",
   "execution_count": 1,
   "id": "4b61db78",
   "metadata": {},
   "outputs": [],
   "source": [
    "import dask.array as da"
   ]
  },
  {
   "cell_type": "code",
   "execution_count": 3,
   "id": "fdec9c28",
   "metadata": {},
   "outputs": [],
   "source": [
    "my_arr = da.random.randint(10 , size = 20 , chunks = 3)"
   ]
  },
  {
   "cell_type": "code",
   "execution_count": 7,
   "id": "0d450f5c",
   "metadata": {},
   "outputs": [
    {
     "data": {
      "text/html": [
       "<table>\n",
       "    <tr>\n",
       "        <td>\n",
       "            <table>\n",
       "                <thead>\n",
       "                    <tr>\n",
       "                        <td> </td>\n",
       "                        <th> Array </th>\n",
       "                        <th> Chunk </th>\n",
       "                    </tr>\n",
       "                </thead>\n",
       "                <tbody>\n",
       "                    \n",
       "                    <tr>\n",
       "                        <th> Bytes </th>\n",
       "                        <td> 80 B </td>\n",
       "                        <td> 12 B </td>\n",
       "                    </tr>\n",
       "                    \n",
       "                    <tr>\n",
       "                        <th> Shape </th>\n",
       "                        <td> (20,) </td>\n",
       "                        <td> (3,) </td>\n",
       "                    </tr>\n",
       "                    <tr>\n",
       "                        <th> Count </th>\n",
       "                        <td> 7 Tasks </td>\n",
       "                        <td> 7 Chunks </td>\n",
       "                    </tr>\n",
       "                    <tr>\n",
       "                    <th> Type </th>\n",
       "                    <td> int32 </td>\n",
       "                    <td> numpy.ndarray </td>\n",
       "                    </tr>\n",
       "                </tbody>\n",
       "            </table>\n",
       "        </td>\n",
       "        <td>\n",
       "        <svg width=\"170\" height=\"84\" style=\"stroke:rgb(0,0,0);stroke-width:1\" >\n",
       "\n",
       "  <!-- Horizontal lines -->\n",
       "  <line x1=\"0\" y1=\"0\" x2=\"120\" y2=\"0\" style=\"stroke-width:2\" />\n",
       "  <line x1=\"0\" y1=\"34\" x2=\"120\" y2=\"34\" style=\"stroke-width:2\" />\n",
       "\n",
       "  <!-- Vertical lines -->\n",
       "  <line x1=\"0\" y1=\"0\" x2=\"0\" y2=\"34\" style=\"stroke-width:2\" />\n",
       "  <line x1=\"18\" y1=\"0\" x2=\"18\" y2=\"34\" />\n",
       "  <line x1=\"36\" y1=\"0\" x2=\"36\" y2=\"34\" />\n",
       "  <line x1=\"54\" y1=\"0\" x2=\"54\" y2=\"34\" />\n",
       "  <line x1=\"72\" y1=\"0\" x2=\"72\" y2=\"34\" />\n",
       "  <line x1=\"90\" y1=\"0\" x2=\"90\" y2=\"34\" />\n",
       "  <line x1=\"108\" y1=\"0\" x2=\"108\" y2=\"34\" />\n",
       "  <line x1=\"120\" y1=\"0\" x2=\"120\" y2=\"34\" style=\"stroke-width:2\" />\n",
       "\n",
       "  <!-- Colored Rectangle -->\n",
       "  <polygon points=\"0.0,0.0 120.0,0.0 120.0,34.50101617379934 0.0,34.50101617379934\" style=\"fill:#ECB172A0;stroke-width:0\"/>\n",
       "\n",
       "  <!-- Text -->\n",
       "  <text x=\"60.000000\" y=\"54.501016\" font-size=\"1.0rem\" font-weight=\"100\" text-anchor=\"middle\" >20</text>\n",
       "  <text x=\"140.000000\" y=\"17.250508\" font-size=\"1.0rem\" font-weight=\"100\" text-anchor=\"middle\" transform=\"rotate(0,140.000000,17.250508)\">1</text>\n",
       "</svg>\n",
       "        </td>\n",
       "    </tr>\n",
       "</table>"
      ],
      "text/plain": [
       "dask.array<randint, shape=(20,), dtype=int32, chunksize=(3,), chunktype=numpy.ndarray>"
      ]
     },
     "execution_count": 7,
     "metadata": {},
     "output_type": "execute_result"
    }
   ],
   "source": [
    "my_arr"
   ]
  },
  {
   "cell_type": "code",
   "execution_count": null,
   "id": "d534a2b1",
   "metadata": {},
   "outputs": [],
   "source": [
    "my_arr.compute()"
   ]
  },
  {
   "cell_type": "code",
   "execution_count": 6,
   "id": "d6de78d4",
   "metadata": {},
   "outputs": [
    {
     "data": {
      "text/plain": [
       "array([106, 108, 107, 108, 104, 100, 109, 108, 101, 102, 101, 104, 106,\n",
       "       103, 109, 100, 102, 102, 107, 109])"
      ]
     },
     "execution_count": 6,
     "metadata": {},
     "output_type": "execute_result"
    }
   ],
   "source": [
    "my_arr_hundred = my_arr+100\n",
    "my_arr_hundred.compute()"
   ]
  },
  {
   "cell_type": "code",
   "execution_count": 8,
   "id": "b476693e",
   "metadata": {},
   "outputs": [
    {
     "data": {
      "text/plain": [
       "array([-6, -8, -7, -8, -4,  0, -9, -8, -1, -2, -1, -4, -6, -3, -9,  0, -2,\n",
       "       -2, -7, -9])"
      ]
     },
     "execution_count": 8,
     "metadata": {},
     "output_type": "execute_result"
    }
   ],
   "source": [
    "(my_arr*(-1)).compute()"
   ]
  },
  {
   "cell_type": "markdown",
   "id": "8be197c6",
   "metadata": {},
   "source": [
    "### Reduction "
   ]
  },
  {
   "cell_type": "code",
   "execution_count": 10,
   "id": "edaccd93",
   "metadata": {},
   "outputs": [
    {
     "data": {
      "text/html": [
       "<table>\n",
       "    <tr>\n",
       "        <td>\n",
       "            <table>\n",
       "                <thead>\n",
       "                    <tr>\n",
       "                        <td> </td>\n",
       "                        <th> Array </th>\n",
       "                        <th> Chunk </th>\n",
       "                    </tr>\n",
       "                </thead>\n",
       "                <tbody>\n",
       "                    \n",
       "                    <tr>\n",
       "                        <th> Bytes </th>\n",
       "                        <td> 4 B </td>\n",
       "                        <td> 4.0 B </td>\n",
       "                    </tr>\n",
       "                    \n",
       "                    <tr>\n",
       "                        <th> Shape </th>\n",
       "                        <td> () </td>\n",
       "                        <td> () </td>\n",
       "                    </tr>\n",
       "                    <tr>\n",
       "                        <th> Count </th>\n",
       "                        <td> 17 Tasks </td>\n",
       "                        <td> 1 Chunks </td>\n",
       "                    </tr>\n",
       "                    <tr>\n",
       "                    <th> Type </th>\n",
       "                    <td> int32 </td>\n",
       "                    <td> numpy.ndarray </td>\n",
       "                    </tr>\n",
       "                </tbody>\n",
       "            </table>\n",
       "        </td>\n",
       "        <td>\n",
       "        \n",
       "        </td>\n",
       "    </tr>\n",
       "</table>"
      ],
      "text/plain": [
       "dask.array<sum-aggregate, shape=(), dtype=int32, chunksize=(), chunktype=numpy.ndarray>"
      ]
     },
     "execution_count": 10,
     "metadata": {},
     "output_type": "execute_result"
    }
   ],
   "source": [
    "dask_sum = my_arr.sum()\n",
    "dask_sum"
   ]
  },
  {
   "cell_type": "code",
   "execution_count": 11,
   "id": "5e9883ff",
   "metadata": {},
   "outputs": [
    {
     "data": {
      "text/plain": [
       "array([6, 8, 7, 8, 4, 0, 9, 8, 1, 2, 1, 4, 6, 3, 9, 0, 2, 2, 7, 9])"
      ]
     },
     "execution_count": 11,
     "metadata": {},
     "output_type": "execute_result"
    }
   ],
   "source": [
    "my_arr.compute()"
   ]
  },
  {
   "cell_type": "code",
   "execution_count": 13,
   "id": "815d9e49",
   "metadata": {},
   "outputs": [
    {
     "data": {
      "text/plain": [
       "96"
      ]
     },
     "execution_count": 13,
     "metadata": {},
     "output_type": "execute_result"
    }
   ],
   "source": [
    "dask_sum.compute()"
   ]
  },
  {
   "cell_type": "code",
   "execution_count": 14,
   "id": "f807abaf",
   "metadata": {},
   "outputs": [],
   "source": [
    "my_ones_arr = da.ones((10, 10), chunks = 2 , dtype = int)"
   ]
  },
  {
   "cell_type": "code",
   "execution_count": 15,
   "id": "1e36a451",
   "metadata": {},
   "outputs": [
    {
     "data": {
      "text/plain": [
       "array([[1, 1, 1, 1, 1, 1, 1, 1, 1, 1],\n",
       "       [1, 1, 1, 1, 1, 1, 1, 1, 1, 1],\n",
       "       [1, 1, 1, 1, 1, 1, 1, 1, 1, 1],\n",
       "       [1, 1, 1, 1, 1, 1, 1, 1, 1, 1],\n",
       "       [1, 1, 1, 1, 1, 1, 1, 1, 1, 1],\n",
       "       [1, 1, 1, 1, 1, 1, 1, 1, 1, 1],\n",
       "       [1, 1, 1, 1, 1, 1, 1, 1, 1, 1],\n",
       "       [1, 1, 1, 1, 1, 1, 1, 1, 1, 1],\n",
       "       [1, 1, 1, 1, 1, 1, 1, 1, 1, 1],\n",
       "       [1, 1, 1, 1, 1, 1, 1, 1, 1, 1]])"
      ]
     },
     "execution_count": 15,
     "metadata": {},
     "output_type": "execute_result"
    }
   ],
   "source": [
    "my_ones_arr.compute()"
   ]
  },
  {
   "cell_type": "code",
   "execution_count": 16,
   "id": "6236ca54",
   "metadata": {},
   "outputs": [
    {
     "data": {
      "text/plain": [
       "array([1., 1., 1., 1., 1., 1., 1., 1., 1., 1.])"
      ]
     },
     "execution_count": 16,
     "metadata": {},
     "output_type": "execute_result"
    }
   ],
   "source": [
    "my_ones_arr.mean(axis = 0).compute()"
   ]
  },
  {
   "cell_type": "code",
   "execution_count": 18,
   "id": "446671ed",
   "metadata": {},
   "outputs": [],
   "source": [
    "my_custom_array = da.random.randint(10 , size =(4,4), chunks = (1,4))"
   ]
  },
  {
   "cell_type": "code",
   "execution_count": 19,
   "id": "a7e8751c",
   "metadata": {},
   "outputs": [
    {
     "data": {
      "text/plain": [
       "array([[5, 8, 3, 2],\n",
       "       [9, 9, 7, 3],\n",
       "       [6, 3, 5, 2],\n",
       "       [6, 5, 7, 0]])"
      ]
     },
     "execution_count": 19,
     "metadata": {},
     "output_type": "execute_result"
    }
   ],
   "source": [
    "my_custom_array.compute()"
   ]
  },
  {
   "cell_type": "code",
   "execution_count": 20,
   "id": "7c1b5db5",
   "metadata": {},
   "outputs": [
    {
     "data": {
      "text/plain": [
       "array([6.5 , 6.25, 5.5 , 1.75])"
      ]
     },
     "execution_count": 20,
     "metadata": {},
     "output_type": "execute_result"
    }
   ],
   "source": [
    "my_custom_array.mean(axis = 0).compute()"
   ]
  },
  {
   "cell_type": "code",
   "execution_count": 21,
   "id": "892adccd",
   "metadata": {},
   "outputs": [
    {
     "data": {
      "text/plain": [
       "array([4.5, 7. , 4. , 4.5])"
      ]
     },
     "execution_count": 21,
     "metadata": {},
     "output_type": "execute_result"
    }
   ],
   "source": [
    "my_custom_array.mean(axis = 1).compute()"
   ]
  },
  {
   "cell_type": "markdown",
   "id": "ae02361c",
   "metadata": {},
   "source": [
    "## Slicing  "
   ]
  },
  {
   "cell_type": "code",
   "execution_count": 23,
   "id": "a4c54586",
   "metadata": {},
   "outputs": [
    {
     "data": {
      "text/html": [
       "<table>\n",
       "    <tr>\n",
       "        <td>\n",
       "            <table>\n",
       "                <thead>\n",
       "                    <tr>\n",
       "                        <td> </td>\n",
       "                        <th> Array </th>\n",
       "                        <th> Chunk </th>\n",
       "                    </tr>\n",
       "                </thead>\n",
       "                <tbody>\n",
       "                    \n",
       "                    <tr>\n",
       "                        <th> Bytes </th>\n",
       "                        <td> 16 B </td>\n",
       "                        <td> 8 B </td>\n",
       "                    </tr>\n",
       "                    \n",
       "                    <tr>\n",
       "                        <th> Shape </th>\n",
       "                        <td> (2, 2) </td>\n",
       "                        <td> (1, 2) </td>\n",
       "                    </tr>\n",
       "                    <tr>\n",
       "                        <th> Count </th>\n",
       "                        <td> 6 Tasks </td>\n",
       "                        <td> 2 Chunks </td>\n",
       "                    </tr>\n",
       "                    <tr>\n",
       "                    <th> Type </th>\n",
       "                    <td> int32 </td>\n",
       "                    <td> numpy.ndarray </td>\n",
       "                    </tr>\n",
       "                </tbody>\n",
       "            </table>\n",
       "        </td>\n",
       "        <td>\n",
       "        <svg width=\"170\" height=\"170\" style=\"stroke:rgb(0,0,0);stroke-width:1\" >\n",
       "\n",
       "  <!-- Horizontal lines -->\n",
       "  <line x1=\"0\" y1=\"0\" x2=\"120\" y2=\"0\" style=\"stroke-width:2\" />\n",
       "  <line x1=\"0\" y1=\"60\" x2=\"120\" y2=\"60\" />\n",
       "  <line x1=\"0\" y1=\"120\" x2=\"120\" y2=\"120\" style=\"stroke-width:2\" />\n",
       "\n",
       "  <!-- Vertical lines -->\n",
       "  <line x1=\"0\" y1=\"0\" x2=\"0\" y2=\"120\" style=\"stroke-width:2\" />\n",
       "  <line x1=\"120\" y1=\"0\" x2=\"120\" y2=\"120\" style=\"stroke-width:2\" />\n",
       "\n",
       "  <!-- Colored Rectangle -->\n",
       "  <polygon points=\"0.0,0.0 120.0,0.0 120.0,120.0 0.0,120.0\" style=\"fill:#ECB172A0;stroke-width:0\"/>\n",
       "\n",
       "  <!-- Text -->\n",
       "  <text x=\"60.000000\" y=\"140.000000\" font-size=\"1.0rem\" font-weight=\"100\" text-anchor=\"middle\" >2</text>\n",
       "  <text x=\"140.000000\" y=\"60.000000\" font-size=\"1.0rem\" font-weight=\"100\" text-anchor=\"middle\" transform=\"rotate(0,140.000000,60.000000)\">2</text>\n",
       "</svg>\n",
       "        </td>\n",
       "    </tr>\n",
       "</table>"
      ],
      "text/plain": [
       "dask.array<getitem, shape=(2, 2), dtype=int32, chunksize=(1, 2), chunktype=numpy.ndarray>"
      ]
     },
     "execution_count": 23,
     "metadata": {},
     "output_type": "execute_result"
    }
   ],
   "source": [
    "my_custom_array[1:3, 2:4]"
   ]
  },
  {
   "cell_type": "code",
   "execution_count": 24,
   "id": "b2ae7f3c",
   "metadata": {},
   "outputs": [
    {
     "data": {
      "text/plain": [
       "array([[7, 3],\n",
       "       [5, 2]])"
      ]
     },
     "execution_count": 24,
     "metadata": {},
     "output_type": "execute_result"
    }
   ],
   "source": [
    "my_custom_array[1:3, 2:4].compute()"
   ]
  },
  {
   "cell_type": "markdown",
   "id": "5d922b28",
   "metadata": {},
   "source": [
    "### Broadcasting\n"
   ]
  },
  {
   "cell_type": "code",
   "execution_count": 25,
   "id": "0ac8ef74",
   "metadata": {},
   "outputs": [
    {
     "data": {
      "text/plain": [
       "array([[5, 8, 3, 2],\n",
       "       [9, 9, 7, 3],\n",
       "       [6, 3, 5, 2],\n",
       "       [6, 5, 7, 0]])"
      ]
     },
     "execution_count": 25,
     "metadata": {},
     "output_type": "execute_result"
    }
   ],
   "source": [
    "my_custom_array.compute()"
   ]
  },
  {
   "cell_type": "code",
   "execution_count": 27,
   "id": "68bc2566",
   "metadata": {},
   "outputs": [
    {
     "data": {
      "text/plain": [
       "array([1., 1., 1., 1.])"
      ]
     },
     "execution_count": 27,
     "metadata": {},
     "output_type": "execute_result"
    }
   ],
   "source": [
    "my_small_arr= da.ones(4, chunks = 2)\n",
    "my_small_arr.compute()"
   ]
  },
  {
   "cell_type": "code",
   "execution_count": 28,
   "id": "d2e675a9",
   "metadata": {},
   "outputs": [],
   "source": [
    "brd_example1 = da.add(my_custom_array , my_small_arr)"
   ]
  },
  {
   "cell_type": "code",
   "execution_count": 29,
   "id": "6967d669",
   "metadata": {},
   "outputs": [
    {
     "data": {
      "text/plain": [
       "array([[ 6.,  9.,  4.,  3.],\n",
       "       [10., 10.,  8.,  4.],\n",
       "       [ 7.,  4.,  6.,  3.],\n",
       "       [ 7.,  6.,  8.,  1.]])"
      ]
     },
     "execution_count": 29,
     "metadata": {},
     "output_type": "execute_result"
    }
   ],
   "source": [
    "brd_example1.compute()"
   ]
  },
  {
   "cell_type": "code",
   "execution_count": 40,
   "id": "76174581",
   "metadata": {},
   "outputs": [],
   "source": [
    "ten_arr = da.full_like(my_small_arr , 10)"
   ]
  },
  {
   "cell_type": "code",
   "execution_count": 41,
   "id": "fea97aff",
   "metadata": {},
   "outputs": [
    {
     "data": {
      "text/plain": [
       "array([10., 10., 10., 10.])"
      ]
     },
     "execution_count": 41,
     "metadata": {},
     "output_type": "execute_result"
    }
   ],
   "source": [
    "ten_arr.compute()"
   ]
  },
  {
   "cell_type": "code",
   "execution_count": 42,
   "id": "53786cb3",
   "metadata": {},
   "outputs": [],
   "source": [
    "brd_example2= da.full_like(my_custom_arr, 10)"
   ]
  },
  {
   "cell_type": "code",
   "execution_count": 43,
   "id": "b3ad7550",
   "metadata": {},
   "outputs": [
    {
     "data": {
      "text/plain": [
       "array([[10, 10, 10, 10],\n",
       "       [10, 10, 10, 10],\n",
       "       [10, 10, 10, 10],\n",
       "       [10, 10, 10, 10]])"
      ]
     },
     "execution_count": 43,
     "metadata": {},
     "output_type": "execute_result"
    }
   ],
   "source": [
    "brd_example2.compute()"
   ]
  },
  {
   "cell_type": "markdown",
   "id": "e6fcc6f6",
   "metadata": {},
   "source": [
    "## Reshaping "
   ]
  },
  {
   "cell_type": "code",
   "execution_count": 30,
   "id": "399db4b3",
   "metadata": {},
   "outputs": [
    {
     "data": {
      "text/plain": [
       "(4, 4)"
      ]
     },
     "execution_count": 30,
     "metadata": {},
     "output_type": "execute_result"
    }
   ],
   "source": [
    "my_custom_array.shape"
   ]
  },
  {
   "cell_type": "code",
   "execution_count": 31,
   "id": "1ff19f10",
   "metadata": {},
   "outputs": [],
   "source": [
    "custom_array_1d = my_custom_array.reshape(16)"
   ]
  },
  {
   "cell_type": "code",
   "execution_count": 32,
   "id": "fb8266fc",
   "metadata": {},
   "outputs": [
    {
     "data": {
      "text/html": [
       "<table>\n",
       "    <tr>\n",
       "        <td>\n",
       "            <table>\n",
       "                <thead>\n",
       "                    <tr>\n",
       "                        <td> </td>\n",
       "                        <th> Array </th>\n",
       "                        <th> Chunk </th>\n",
       "                    </tr>\n",
       "                </thead>\n",
       "                <tbody>\n",
       "                    \n",
       "                    <tr>\n",
       "                        <th> Bytes </th>\n",
       "                        <td> 64 B </td>\n",
       "                        <td> 16 B </td>\n",
       "                    </tr>\n",
       "                    \n",
       "                    <tr>\n",
       "                        <th> Shape </th>\n",
       "                        <td> (16,) </td>\n",
       "                        <td> (4,) </td>\n",
       "                    </tr>\n",
       "                    <tr>\n",
       "                        <th> Count </th>\n",
       "                        <td> 8 Tasks </td>\n",
       "                        <td> 4 Chunks </td>\n",
       "                    </tr>\n",
       "                    <tr>\n",
       "                    <th> Type </th>\n",
       "                    <td> int32 </td>\n",
       "                    <td> numpy.ndarray </td>\n",
       "                    </tr>\n",
       "                </tbody>\n",
       "            </table>\n",
       "        </td>\n",
       "        <td>\n",
       "        <svg width=\"170\" height=\"85\" style=\"stroke:rgb(0,0,0);stroke-width:1\" >\n",
       "\n",
       "  <!-- Horizontal lines -->\n",
       "  <line x1=\"0\" y1=\"0\" x2=\"120\" y2=\"0\" style=\"stroke-width:2\" />\n",
       "  <line x1=\"0\" y1=\"35\" x2=\"120\" y2=\"35\" style=\"stroke-width:2\" />\n",
       "\n",
       "  <!-- Vertical lines -->\n",
       "  <line x1=\"0\" y1=\"0\" x2=\"0\" y2=\"35\" style=\"stroke-width:2\" />\n",
       "  <line x1=\"30\" y1=\"0\" x2=\"30\" y2=\"35\" />\n",
       "  <line x1=\"60\" y1=\"0\" x2=\"60\" y2=\"35\" />\n",
       "  <line x1=\"90\" y1=\"0\" x2=\"90\" y2=\"35\" />\n",
       "  <line x1=\"120\" y1=\"0\" x2=\"120\" y2=\"35\" style=\"stroke-width:2\" />\n",
       "\n",
       "  <!-- Colored Rectangle -->\n",
       "  <polygon points=\"0.0,0.0 120.0,0.0 120.0,35.85954734920875 0.0,35.85954734920875\" style=\"fill:#ECB172A0;stroke-width:0\"/>\n",
       "\n",
       "  <!-- Text -->\n",
       "  <text x=\"60.000000\" y=\"55.859547\" font-size=\"1.0rem\" font-weight=\"100\" text-anchor=\"middle\" >16</text>\n",
       "  <text x=\"140.000000\" y=\"17.929774\" font-size=\"1.0rem\" font-weight=\"100\" text-anchor=\"middle\" transform=\"rotate(0,140.000000,17.929774)\">1</text>\n",
       "</svg>\n",
       "        </td>\n",
       "    </tr>\n",
       "</table>"
      ],
      "text/plain": [
       "dask.array<reshape, shape=(16,), dtype=int32, chunksize=(4,), chunktype=numpy.ndarray>"
      ]
     },
     "execution_count": 32,
     "metadata": {},
     "output_type": "execute_result"
    }
   ],
   "source": [
    "custom_array_1d"
   ]
  },
  {
   "cell_type": "code",
   "execution_count": 33,
   "id": "c5692c05",
   "metadata": {},
   "outputs": [
    {
     "data": {
      "text/plain": [
       "array([5, 8, 3, 2, 9, 9, 7, 3, 6, 3, 5, 2, 6, 5, 7, 0])"
      ]
     },
     "execution_count": 33,
     "metadata": {},
     "output_type": "execute_result"
    }
   ],
   "source": [
    "custom_array_1d.compute()"
   ]
  },
  {
   "cell_type": "markdown",
   "id": "8631e053",
   "metadata": {},
   "source": [
    "###  Stacking"
   ]
  },
  {
   "cell_type": "code",
   "execution_count": 44,
   "id": "6bac66ca",
   "metadata": {},
   "outputs": [],
   "source": [
    "stacked_arr = da.stack([brd_example1 , brd_example2])"
   ]
  },
  {
   "cell_type": "code",
   "execution_count": 45,
   "id": "1550f47f",
   "metadata": {},
   "outputs": [
    {
     "data": {
      "text/plain": [
       "array([[[ 6.,  9.,  4.,  3.],\n",
       "        [10., 10.,  8.,  4.],\n",
       "        [ 7.,  4.,  6.,  3.],\n",
       "        [ 7.,  6.,  8.,  1.]],\n",
       "\n",
       "       [[10., 10., 10., 10.],\n",
       "        [10., 10., 10., 10.],\n",
       "        [10., 10., 10., 10.],\n",
       "        [10., 10., 10., 10.]]])"
      ]
     },
     "execution_count": 45,
     "metadata": {},
     "output_type": "execute_result"
    }
   ],
   "source": [
    "stacked_arr.compute()"
   ]
  },
  {
   "cell_type": "code",
   "execution_count": 46,
   "id": "632db1b5",
   "metadata": {},
   "outputs": [],
   "source": [
    "stacked_arr = da.stack([brd_example1 , brd_example2] , axis = 1)"
   ]
  },
  {
   "cell_type": "code",
   "execution_count": 47,
   "id": "e8d8820a",
   "metadata": {},
   "outputs": [
    {
     "data": {
      "text/plain": [
       "array([[[ 6.,  9.,  4.,  3.],\n",
       "        [10., 10., 10., 10.]],\n",
       "\n",
       "       [[10., 10.,  8.,  4.],\n",
       "        [10., 10., 10., 10.]],\n",
       "\n",
       "       [[ 7.,  4.,  6.,  3.],\n",
       "        [10., 10., 10., 10.]],\n",
       "\n",
       "       [[ 7.,  6.,  8.,  1.],\n",
       "        [10., 10., 10., 10.]]])"
      ]
     },
     "execution_count": 47,
     "metadata": {},
     "output_type": "execute_result"
    }
   ],
   "source": [
    "stacked_arr.compute()"
   ]
  },
  {
   "cell_type": "markdown",
   "id": "c7dc1095",
   "metadata": {},
   "source": [
    "### Concatenation "
   ]
  },
  {
   "cell_type": "code",
   "execution_count": 48,
   "id": "96c2226d",
   "metadata": {},
   "outputs": [],
   "source": [
    "concatenate_arr = da.concatenate([brd_example1 , brd_example2])"
   ]
  },
  {
   "cell_type": "code",
   "execution_count": 49,
   "id": "4dcec7d1",
   "metadata": {},
   "outputs": [
    {
     "data": {
      "text/plain": [
       "array([[ 6.,  9.,  4.,  3.],\n",
       "       [10., 10.,  8.,  4.],\n",
       "       [ 7.,  4.,  6.,  3.],\n",
       "       [ 7.,  6.,  8.,  1.],\n",
       "       [10., 10., 10., 10.],\n",
       "       [10., 10., 10., 10.],\n",
       "       [10., 10., 10., 10.],\n",
       "       [10., 10., 10., 10.]])"
      ]
     },
     "execution_count": 49,
     "metadata": {},
     "output_type": "execute_result"
    }
   ],
   "source": [
    "concatenate_arr.compute()"
   ]
  },
  {
   "cell_type": "code",
   "execution_count": 51,
   "id": "64ab7d91",
   "metadata": {},
   "outputs": [],
   "source": [
    "another_concatenate_arr = da.concatenate([brd_example1 , brd_example2] , axis =1)"
   ]
  },
  {
   "cell_type": "code",
   "execution_count": 52,
   "id": "9905391b",
   "metadata": {},
   "outputs": [
    {
     "data": {
      "text/html": [
       "<table>\n",
       "    <tr>\n",
       "        <td>\n",
       "            <table>\n",
       "                <thead>\n",
       "                    <tr>\n",
       "                        <td> </td>\n",
       "                        <th> Array </th>\n",
       "                        <th> Chunk </th>\n",
       "                    </tr>\n",
       "                </thead>\n",
       "                <tbody>\n",
       "                    \n",
       "                    <tr>\n",
       "                        <th> Bytes </th>\n",
       "                        <td> 256 B </td>\n",
       "                        <td> 32 B </td>\n",
       "                    </tr>\n",
       "                    \n",
       "                    <tr>\n",
       "                        <th> Shape </th>\n",
       "                        <td> (4, 8) </td>\n",
       "                        <td> (1, 4) </td>\n",
       "                    </tr>\n",
       "                    <tr>\n",
       "                        <th> Count </th>\n",
       "                        <td> 50 Tasks </td>\n",
       "                        <td> 12 Chunks </td>\n",
       "                    </tr>\n",
       "                    <tr>\n",
       "                    <th> Type </th>\n",
       "                    <td> float64 </td>\n",
       "                    <td> numpy.ndarray </td>\n",
       "                    </tr>\n",
       "                </tbody>\n",
       "            </table>\n",
       "        </td>\n",
       "        <td>\n",
       "        <svg width=\"170\" height=\"110\" style=\"stroke:rgb(0,0,0);stroke-width:1\" >\n",
       "\n",
       "  <!-- Horizontal lines -->\n",
       "  <line x1=\"0\" y1=\"0\" x2=\"120\" y2=\"0\" style=\"stroke-width:2\" />\n",
       "  <line x1=\"0\" y1=\"15\" x2=\"120\" y2=\"15\" />\n",
       "  <line x1=\"0\" y1=\"30\" x2=\"120\" y2=\"30\" />\n",
       "  <line x1=\"0\" y1=\"45\" x2=\"120\" y2=\"45\" />\n",
       "  <line x1=\"0\" y1=\"60\" x2=\"120\" y2=\"60\" style=\"stroke-width:2\" />\n",
       "\n",
       "  <!-- Vertical lines -->\n",
       "  <line x1=\"0\" y1=\"0\" x2=\"0\" y2=\"60\" style=\"stroke-width:2\" />\n",
       "  <line x1=\"30\" y1=\"0\" x2=\"30\" y2=\"60\" />\n",
       "  <line x1=\"60\" y1=\"0\" x2=\"60\" y2=\"60\" />\n",
       "  <line x1=\"120\" y1=\"0\" x2=\"120\" y2=\"60\" style=\"stroke-width:2\" />\n",
       "\n",
       "  <!-- Colored Rectangle -->\n",
       "  <polygon points=\"0.0,0.0 120.0,0.0 120.0,60.0 0.0,60.0\" style=\"fill:#ECB172A0;stroke-width:0\"/>\n",
       "\n",
       "  <!-- Text -->\n",
       "  <text x=\"60.000000\" y=\"80.000000\" font-size=\"1.0rem\" font-weight=\"100\" text-anchor=\"middle\" >8</text>\n",
       "  <text x=\"140.000000\" y=\"30.000000\" font-size=\"1.0rem\" font-weight=\"100\" text-anchor=\"middle\" transform=\"rotate(0,140.000000,30.000000)\">4</text>\n",
       "</svg>\n",
       "        </td>\n",
       "    </tr>\n",
       "</table>"
      ],
      "text/plain": [
       "dask.array<concatenate, shape=(4, 8), dtype=float64, chunksize=(1, 4), chunktype=numpy.ndarray>"
      ]
     },
     "execution_count": 52,
     "metadata": {},
     "output_type": "execute_result"
    }
   ],
   "source": [
    "another_concatenate_arr"
   ]
  },
  {
   "cell_type": "code",
   "execution_count": 53,
   "id": "f0a8c3da",
   "metadata": {},
   "outputs": [
    {
     "data": {
      "text/plain": [
       "array([[ 6.,  9.,  4.,  3., 10., 10., 10., 10.],\n",
       "       [10., 10.,  8.,  4., 10., 10., 10., 10.],\n",
       "       [ 7.,  4.,  6.,  3., 10., 10., 10., 10.],\n",
       "       [ 7.,  6.,  8.,  1., 10., 10., 10., 10.]])"
      ]
     },
     "execution_count": 53,
     "metadata": {},
     "output_type": "execute_result"
    }
   ],
   "source": [
    "another_concatenate_arr.compute()"
   ]
  },
  {
   "cell_type": "code",
   "execution_count": 54,
   "id": "009abfb1",
   "metadata": {},
   "outputs": [],
   "source": [
    "another_concatenate_arr = da.concatenate([brd_example1 , brd_example2] , axis =0)"
   ]
  },
  {
   "cell_type": "code",
   "execution_count": 55,
   "id": "747764f4",
   "metadata": {},
   "outputs": [
    {
     "data": {
      "text/html": [
       "<table>\n",
       "    <tr>\n",
       "        <td>\n",
       "            <table>\n",
       "                <thead>\n",
       "                    <tr>\n",
       "                        <td> </td>\n",
       "                        <th> Array </th>\n",
       "                        <th> Chunk </th>\n",
       "                    </tr>\n",
       "                </thead>\n",
       "                <tbody>\n",
       "                    \n",
       "                    <tr>\n",
       "                        <th> Bytes </th>\n",
       "                        <td> 256 B </td>\n",
       "                        <td> 16 B </td>\n",
       "                    </tr>\n",
       "                    \n",
       "                    <tr>\n",
       "                        <th> Shape </th>\n",
       "                        <td> (8, 4) </td>\n",
       "                        <td> (1, 2) </td>\n",
       "                    </tr>\n",
       "                    <tr>\n",
       "                        <th> Count </th>\n",
       "                        <td> 70 Tasks </td>\n",
       "                        <td> 16 Chunks </td>\n",
       "                    </tr>\n",
       "                    <tr>\n",
       "                    <th> Type </th>\n",
       "                    <td> float64 </td>\n",
       "                    <td> numpy.ndarray </td>\n",
       "                    </tr>\n",
       "                </tbody>\n",
       "            </table>\n",
       "        </td>\n",
       "        <td>\n",
       "        <svg width=\"110\" height=\"170\" style=\"stroke:rgb(0,0,0);stroke-width:1\" >\n",
       "\n",
       "  <!-- Horizontal lines -->\n",
       "  <line x1=\"0\" y1=\"0\" x2=\"60\" y2=\"0\" style=\"stroke-width:2\" />\n",
       "  <line x1=\"0\" y1=\"15\" x2=\"60\" y2=\"15\" />\n",
       "  <line x1=\"0\" y1=\"30\" x2=\"60\" y2=\"30\" />\n",
       "  <line x1=\"0\" y1=\"45\" x2=\"60\" y2=\"45\" />\n",
       "  <line x1=\"0\" y1=\"60\" x2=\"60\" y2=\"60\" />\n",
       "  <line x1=\"0\" y1=\"75\" x2=\"60\" y2=\"75\" />\n",
       "  <line x1=\"0\" y1=\"90\" x2=\"60\" y2=\"90\" />\n",
       "  <line x1=\"0\" y1=\"105\" x2=\"60\" y2=\"105\" />\n",
       "  <line x1=\"0\" y1=\"120\" x2=\"60\" y2=\"120\" style=\"stroke-width:2\" />\n",
       "\n",
       "  <!-- Vertical lines -->\n",
       "  <line x1=\"0\" y1=\"0\" x2=\"0\" y2=\"120\" style=\"stroke-width:2\" />\n",
       "  <line x1=\"30\" y1=\"0\" x2=\"30\" y2=\"120\" />\n",
       "  <line x1=\"60\" y1=\"0\" x2=\"60\" y2=\"120\" style=\"stroke-width:2\" />\n",
       "\n",
       "  <!-- Colored Rectangle -->\n",
       "  <polygon points=\"0.0,0.0 60.0,0.0 60.0,120.0 0.0,120.0\" style=\"fill:#ECB172A0;stroke-width:0\"/>\n",
       "\n",
       "  <!-- Text -->\n",
       "  <text x=\"30.000000\" y=\"140.000000\" font-size=\"1.0rem\" font-weight=\"100\" text-anchor=\"middle\" >4</text>\n",
       "  <text x=\"80.000000\" y=\"60.000000\" font-size=\"1.0rem\" font-weight=\"100\" text-anchor=\"middle\" transform=\"rotate(0,80.000000,60.000000)\">8</text>\n",
       "</svg>\n",
       "        </td>\n",
       "    </tr>\n",
       "</table>"
      ],
      "text/plain": [
       "dask.array<concatenate, shape=(8, 4), dtype=float64, chunksize=(1, 2), chunktype=numpy.ndarray>"
      ]
     },
     "execution_count": 55,
     "metadata": {},
     "output_type": "execute_result"
    }
   ],
   "source": [
    "another_concatenate_arr"
   ]
  },
  {
   "cell_type": "code",
   "execution_count": 56,
   "id": "253f135d",
   "metadata": {},
   "outputs": [
    {
     "data": {
      "text/plain": [
       "array([[ 6.,  9.,  4.,  3.],\n",
       "       [10., 10.,  8.,  4.],\n",
       "       [ 7.,  4.,  6.,  3.],\n",
       "       [ 7.,  6.,  8.,  1.],\n",
       "       [10., 10., 10., 10.],\n",
       "       [10., 10., 10., 10.],\n",
       "       [10., 10., 10., 10.],\n",
       "       [10., 10., 10., 10.]])"
      ]
     },
     "execution_count": 56,
     "metadata": {},
     "output_type": "execute_result"
    }
   ],
   "source": [
    "another_concatenate_arr.compute()"
   ]
  },
  {
   "cell_type": "code",
   "execution_count": null,
   "id": "8fe14b5c",
   "metadata": {},
   "outputs": [],
   "source": []
  }
 ],
 "metadata": {
  "kernelspec": {
   "display_name": "Python 3 (ipykernel)",
   "language": "python",
   "name": "python3"
  },
  "language_info": {
   "codemirror_mode": {
    "name": "ipython",
    "version": 3
   },
   "file_extension": ".py",
   "mimetype": "text/x-python",
   "name": "python",
   "nbconvert_exporter": "python",
   "pygments_lexer": "ipython3",
   "version": "3.9.7"
  }
 },
 "nbformat": 4,
 "nbformat_minor": 5
}
